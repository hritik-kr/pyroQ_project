{
 "cells": [
  {
   "cell_type": "markdown",
   "id": "0e0931cc",
   "metadata": {},
   "source": [
    "# Cell 1 - Title and description\n",
    "# PyroQ Data Exploration\n",
    "# This notebook explores thermal satellite imagery data for wildfire detection.\n"
   ]
  },
  {
   "cell_type": "markdown",
   "id": "c0e5c0a2",
   "metadata": {},
   "source": [
    "# Cell 2 - Imports\n",
    "import numpy as np\n",
    "import matplotlib.pyplot as plt\n",
    "import seaborn as sns\n",
    "from pathlib import Path\n",
    "import sys\n",
    "sys.path.append('../')\n",
    "\n",
    "from src.data.dataset import ThermalAnomalyDataset\n",
    "from src.classical.preprocessing import ThermalPreprocessor\n",
    "\n",
    "# Set style\n",
    "plt.style.use('seaborn-v0_8')\n",
    "sns.set_palette('viridis')\n"
   ]
  },
  {
   "cell_type": "markdown",
   "id": "22db6626",
   "metadata": {},
   "source": [
    "# Cell 3 - Load and Examine Data\n",
    "# Load dataset\n",
    "data_path = '../data/patches/'\n",
    "if Path(data_path).exists():\n",
    "    dataset = ThermalAnomalyDataset(data_path, split='train')\n",
    "    print(f\"Dataset size: {len(dataset)}\")\n",
    "    print(f\"Image shape: {dataset.images[0].shape}\")\n",
    "    print(f\"Label distribution: {np.bincount(dataset.labels)}\")\n",
    "else:\n",
    "    print(\"Data not found. Creating sample data...\")\n",
    "    from src.data.modis_api import create_sample_data\n",
    "    create_sample_data('../data/raw', num_samples=1000)\n",
    "    dataset = ThermalAnomalyDataset('../data/raw', split='train')"
   ]
  },
  {
   "cell_type": "markdown",
   "id": "2f0361e3",
   "metadata": {},
   "source": [
    "# Cell 4 - Visualize Sample Images\n",
    "# Plot sample images\n",
    "fig, axes = plt.subplots(2, 5, figsize=(15, 6))\n",
    "\n",
    "# Fire samples\n",
    "fire_indices = np.where(dataset.labels == 1)[0][:5]\n",
    "for i, idx in enumerate(fire_indices):\n",
    "    image = dataset.images[idx]\n",
    "    if len(image.shape) == 3:\n",
    "        image = image[0]  # Take first channel\n",
    "    axes[0, i].imshow(image, cmap='hot')\n",
    "    axes[0, i].set_title(f'Fire Sample {i+1}')\n",
    "    axes[0, i].axis('off')\n",
    "\n",
    "# No-fire samples\n",
    "no_fire_indices = np.where(dataset.labels == 0)[0][:5]\n",
    "for i, idx in enumerate(no_fire_indices):\n",
    "    image = dataset.images[idx]\n",
    "    if len(image.shape) == 3:\n",
    "        image = image[0]  # Take first channel\n",
    "    axes[1, i].imshow(image, cmap='hot')\n",
    "    axes[1, i].set_title(f'No-Fire Sample {i+1}')\n",
    "    axes[1, i].axis('off')\n",
    "\n",
    "plt.tight_layout()\n",
    "plt.show()"
   ]
  },
  {
   "cell_type": "markdown",
   "id": "f82b745c",
   "metadata": {},
   "source": [
    "# Cell 5 - Analyze Temperature Distributions\n",
    "# Calculate statistics\n",
    "fire_temps = []\n",
    "no_fire_temps = []\n",
    "\n",
    "for i in range(len(dataset)):\n",
    "    image = dataset.images[i]\n",
    "    if len(image.shape) == 3:\n",
    "        image = image[0]\n",
    "    \n",
    "    if dataset.labels[i] == 1:\n",
    "        fire_temps.extend(image.flatten())\n",
    "    else:\n",
    "        no_fire_temps.extend(image.flatten())\n",
    "\n",
    "# Plot distributions\n",
    "plt.figure(figsize=(12, 5))\n",
    "\n",
    "plt.subplot(1, 2, 1)\n",
    "plt.hist(fire_temps, bins=50, alpha=0.7, label='Fire', density=True)\n",
    "plt.hist(no_fire_temps, bins=50, alpha=0.7, label='No Fire', density=True)\n",
    "plt.xlabel('Temperature Value')\n",
    "plt.ylabel('Density')\n",
    "plt.title('Temperature Distributions')\n",
    "plt.legend()\n",
    "\n",
    "plt.subplot(1, 2, 2)\n",
    "plt.boxplot([fire_temps, no_fire_temps], labels=['Fire', 'No Fire'])\n",
    "plt.ylabel('Temperature Value')\n",
    "plt.title('Temperature Box Plot')\n",
    "\n",
    "plt.tight_layout()\n",
    "plt.show()\n",
    "\n",
    "print(f\"Fire mean temperature: {np.mean(fire_temps):.2f}\")\n",
    "print(f\"No-fire mean temperature: {np.mean(no_fire_temps):.2f}\")"
   ]
  }
 ],
 "metadata": {
  "kernelspec": {
   "display_name": ".venv",
   "language": "python",
   "name": "python3"
  },
  "language_info": {
   "name": "python",
   "version": "3.13.3"
  }
 },
 "nbformat": 4,
 "nbformat_minor": 5
}
