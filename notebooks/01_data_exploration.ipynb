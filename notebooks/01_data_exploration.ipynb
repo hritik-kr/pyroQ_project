{
 "cells": [
  {
   "cell_type": "markdown",
   "id": "55d20639",
   "metadata": {},
   "source": [
    "## PyroQ Data Exploration\n",
    "## Thermal Satellite Imagery Analysis for Wildfire Detection\n",
    "This notebook explores:\n",
    "- Dataset loading and statistics\n",
    "- Visual comparison of fire vs. non-fire thermal images\n",
    "- Temperature distribution analysis\n"
   ]
  },
  {
   "cell_type": "code",
   "execution_count": null,
   "id": "ab2d378c",
   "metadata": {},
   "outputs": [],
   "source": [
    "##CELL 2 Imports\n",
    "import numpy as np\n",
    "import matplotlib.pyplot as plt\n",
    "import seaborn as sns\n",
    "from pathlib import Path\n",
    "import sys\n",
    "sys.path.append('../')\n",
    "\n",
    "from src.data.dataset import ThermalAnomalyDataset\n",
    "from src.classical.preprocessing import ThermalPreprocessor\n",
    "\n",
    "# Visualization settings\n",
    "plt.style.use('seaborn-v0_8')\n",
    "sns.set_palette('viridis')\n",
    "%matplotlib inline"
   ]
  },
  {
   "cell_type": "code",
   "execution_count": null,
   "id": "d9b8b0fd",
   "metadata": {},
   "outputs": [],
   "source": [
    "## CELL 3 DATA LOADING\n",
    "data_path = '../data/patches/'\n",
    "\n",
    "if Path(data_path).exists():\n",
    "    dataset = ThermalAnomalyDataset(data_path, split='train')\n",
    "    print(f\"Dataset size: {len(dataset)}\")\n",
    "    print(f\"Image shape: {dataset.images[0].shape}\")\n",
    "    print(f\"Label distribution:\\n0 (No Fire): {np.sum(dataset.labels == 0)}\\n1 (Fire): {np.sum(dataset.labels == 1)}\")\n",
    "else:\n",
    "    print(\"Data not found. Creating sample data...\")\n",
    "    from src.data.modis_api import create_sample_data\n",
    "    create_sample_data('../data/raw', num_samples=1000)\n",
    "    dataset = ThermalAnomalyDataset('../data/raw', split='train')"
   ]
  },
  {
   "cell_type": "markdown",
   "id": "d4f6e334",
   "metadata": {},
   "source": [
    "## CELL 4\n",
    "### Fire vs. Normal Thermal Signatures\n",
    "Comparison of 5 fire samples (top) vs. 5 normal samples (bottom):"
   ]
  },
  {
   "cell_type": "code",
   "execution_count": null,
   "id": "e9be737b",
   "metadata": {},
   "outputs": [],
   "source": [
    "\n",
    "\n",
    "fig, axes = plt.subplots(2, 5, figsize=(20, 8))\n",
    "\n",
    "# Fire samples (label=1)\n",
    "fire_indices = np.where(dataset.labels == 1)[0][:5]\n",
    "for i, idx in enumerate(fire_indices):\n",
    "    img = dataset.images[idx]\n",
    "    if len(img.shape) == 3:\n",
    "        img = img[0]  # Use first channel\n",
    "    axes[0, i].imshow(img, cmap='hot', vmin=300, vmax=400)\n",
    "    axes[0, i].set_title(f'Fire #{i+1}\\n{np.mean(img):.1f}K')\n",
    "    axes[0, i].axis('off')\n",
    "\n",
    "# No-fire samples (label=0)\n",
    "no_fire_indices = np.where(dataset.labels == 0)[0][:5]\n",
    "for i, idx in enumerate(no_fire_indices):\n",
    "    img = dataset.images[idx]\n",
    "    if len(img.shape) == 3:\n",
    "        img = img[0]\n",
    "    axes[1, i].imshow(img, cmap='hot', vmin=300, vmax=400)\n",
    "    axes[1, i].set_title(f'Normal #{i+1}\\n{np.mean(img):.1f}K')\n",
    "    axes[1, i].axis('off')\n",
    "\n",
    "plt.suptitle('Thermal Image Comparison (Fire vs Normal)', y=1.05)\n",
    "plt.tight_layout()\n",
    "plt.show()"
   ]
  },
  {
   "cell_type": "markdown",
   "id": "1733c2af",
   "metadata": {},
   "source": [
    "## CELL 5 TEMPERATURE ANALYSIS\n",
    "## Statistical Temperature Analysis\n",
    "Key metrics comparing pixel temperatures:\n",
    "- Histogram showing distribution overlap\n",
    "- Boxplot comparing statistical properties"
   ]
  },
  {
   "cell_type": "code",
   "execution_count": null,
   "id": "d33d7aca",
   "metadata": {},
   "outputs": [],
   "source": [
    "fire_pixels = []\n",
    "normal_pixels = []\n",
    "\n",
    "for img, label in zip(dataset.images, dataset.labels):\n",
    "    if len(img.shape) == 3:\n",
    "        img = img[0]\n",
    "    if label == 1:\n",
    "        fire_pixels.extend(img.flatten())\n",
    "    else:\n",
    "        normal_pixels.extend(img.flatten())\n",
    "\n",
    "# Visualization\n",
    "plt.figure(figsize=(14, 5))\n",
    "\n",
    "# Histogram\n",
    "plt.subplot(1, 2, 1)\n",
    "plt.hist([normal_pixels, fire_pixels], \n",
    "         bins=50, \n",
    "         label=['Normal', 'Fire'],\n",
    "         color=['blue', 'red'],\n",
    "         alpha=0.6,\n",
    "         density=True)\n",
    "plt.xlabel('Temperature (K)')\n",
    "plt.ylabel('Density')\n",
    "plt.title('Temperature Distribution')\n",
    "plt.legend()\n",
    "\n",
    "# Boxplot\n",
    "plt.subplot(1, 2, 2)\n",
    "plt.boxplot([normal_pixels, fire_pixels],\n",
    "            labels=['Normal', 'Fire'],\n",
    "            patch_artist=True,\n",
    "            boxprops=dict(facecolor='blue', alpha=0.5),\n",
    "            medianprops=dict(color='black'))\n",
    "plt.ylabel('Temperature (K)')\n",
    "plt.title('Temperature Statistics')\n",
    "\n",
    "plt.tight_layout()\n",
    "plt.show()\n",
    "\n",
    "# Metrics\n",
    "print(f\"[Fire Areas]\\nMean: {np.mean(fire_pixels):.2f}K | Max: {np.max(fire_pixels):.2f}K | σ: {np.std(fire_pixels):.2f}\")\n",
    "print(f\"[Normal Areas]\\nMean: {np.mean(normal_pixels):.2f}K | Max: {np.max(normal_pixels):.2f}K | σ: {np.std(normal_pixels):.2f}\")"
   ]
  }
 ],
 "metadata": {
  "kernelspec": {
   "display_name": ".venv",
   "language": "python",
   "name": "python3"
  },
  "language_info": {
   "codemirror_mode": {
    "name": "ipython",
    "version": 3
   },
   "file_extension": ".py",
   "mimetype": "text/x-python",
   "name": "python",
   "nbconvert_exporter": "python",
   "pygments_lexer": "ipython3",
   "version": "3.13.3"
  }
 },
 "nbformat": 4,
 "nbformat_minor": 5
}
